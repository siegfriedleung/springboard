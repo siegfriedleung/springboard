{
  "cells": [
    {
      "metadata": {},
      "cell_type": "markdown",
      "source": "# Inferential statistics II - Bootstrapping"
    },
    {
      "metadata": {},
      "cell_type": "markdown",
      "source": "## Introduction"
    },
    {
      "metadata": {},
      "cell_type": "markdown",
      "source": "In the previous frequentist mini-projects, you did frequentist calculations to perform inference from a sample of data. Such inference relies on theory largely developed from the 19th-Century onwards that is subject to certain assumptions or theoretical limits. These are fine if those assumptions hold for the particular case you're working on, and what you want to do has a known theoretical distribution (for example the mean of a sampling distribution that we looked at in the previous mini-project.)"
    },
    {
      "metadata": {},
      "cell_type": "markdown",
      "source": "In this mini-project, you'll use the same medical charge data you used in the frequentist inference mini-project, but this time you'll make inferences about the population using bootstrapping (ie. simulating repeated re-runs of an experiment.) If frequentism is about using assumptions and theoretical results to calculate what we expect to happen were an experiment to be run again and again and again, then bootstrapping is about using computing power to essentially re-run the sample draw again and again and again to see what actually happens."
    },
    {
      "metadata": {},
      "cell_type": "markdown",
      "source": "## Prerequisites"
    },
    {
      "metadata": {},
      "cell_type": "markdown",
      "source": "While these exercises do not strictly depend on these concepts, we encourage you to complete the previous mini-projects before starting this one so that you can approach this assignment with a good understanding of frequentist concepts like:\n* the _z_-statistic\n* the _t_-statistic\n* the difference and relationship between the two\n* the Central Limit Theorem, its assumptions and consequences\n* how to estimate the population mean and standard deviation from a sample\n* the concept of a sampling distribution of a test statistic, particularly for the mean\n* how to combine these concepts to calculate confidence intervals and p-values\n* how those confidence intervals and p-values allow you to perform hypothesis (or A/B) tests"
    },
    {
      "metadata": {},
      "cell_type": "markdown",
      "source": "To complete mini-project, it's important that you first complete the bootstrap resources listed in this subunit, as they contain valuable information about how to calculate bootstrap replicates of summary statistics. Having an basic understanding of what confidence intervals and p-values are will also be helpful (we touch on them in this mini-project, but please speak to your mentor or conduct individual research if you'd like to learn more.) "
    },
    {
      "metadata": {
        "trusted": true
      },
      "cell_type": "code",
      "source": "import pandas as pd\nimport numpy as np\nfrom numpy.random import seed\nimport matplotlib.pyplot as plt",
      "execution_count": 1,
      "outputs": [
        {
          "output_type": "stream",
          "text": "/home/nbuser/anaconda3_420/lib/python3.5/site-packages/matplotlib/font_manager.py:281: UserWarning: Matplotlib is building the font cache using fc-list. This may take a moment.\n  'Matplotlib is building the font cache using fc-list. '\n",
          "name": "stderr"
        }
      ]
    },
    {
      "metadata": {},
      "cell_type": "markdown",
      "source": "## Medical charge data set"
    },
    {
      "metadata": {
        "trusted": true
      },
      "cell_type": "code",
      "source": "med_charges = pd.read_csv('data/insurance2.csv')",
      "execution_count": 2,
      "outputs": []
    },
    {
      "metadata": {
        "trusted": true
      },
      "cell_type": "code",
      "source": "med_charges.head()",
      "execution_count": 3,
      "outputs": [
        {
          "output_type": "execute_result",
          "execution_count": 3,
          "data": {
            "text/html": "<div>\n<table border=\"1\" class=\"dataframe\">\n  <thead>\n    <tr style=\"text-align: right;\">\n      <th></th>\n      <th>age</th>\n      <th>sex</th>\n      <th>bmi</th>\n      <th>children</th>\n      <th>smoker</th>\n      <th>region</th>\n      <th>charges</th>\n      <th>insuranceclaim</th>\n    </tr>\n  </thead>\n  <tbody>\n    <tr>\n      <th>0</th>\n      <td>19</td>\n      <td>0</td>\n      <td>27.900</td>\n      <td>0</td>\n      <td>1</td>\n      <td>3</td>\n      <td>16884.92400</td>\n      <td>1</td>\n    </tr>\n    <tr>\n      <th>1</th>\n      <td>18</td>\n      <td>1</td>\n      <td>33.770</td>\n      <td>1</td>\n      <td>0</td>\n      <td>2</td>\n      <td>1725.55230</td>\n      <td>1</td>\n    </tr>\n    <tr>\n      <th>2</th>\n      <td>28</td>\n      <td>1</td>\n      <td>33.000</td>\n      <td>3</td>\n      <td>0</td>\n      <td>2</td>\n      <td>4449.46200</td>\n      <td>0</td>\n    </tr>\n    <tr>\n      <th>3</th>\n      <td>33</td>\n      <td>1</td>\n      <td>22.705</td>\n      <td>0</td>\n      <td>0</td>\n      <td>1</td>\n      <td>21984.47061</td>\n      <td>0</td>\n    </tr>\n    <tr>\n      <th>4</th>\n      <td>32</td>\n      <td>1</td>\n      <td>28.880</td>\n      <td>0</td>\n      <td>0</td>\n      <td>1</td>\n      <td>3866.85520</td>\n      <td>1</td>\n    </tr>\n  </tbody>\n</table>\n</div>",
            "text/plain": "   age  sex     bmi  children  smoker  region      charges  insuranceclaim\n0   19    0  27.900         0       1       3  16884.92400               1\n1   18    1  33.770         1       0       2   1725.55230               1\n2   28    1  33.000         3       0       2   4449.46200               0\n3   33    1  22.705         0       0       1  21984.47061               0\n4   32    1  28.880         0       0       1   3866.85520               1"
          },
          "metadata": {}
        }
      ]
    },
    {
      "metadata": {},
      "cell_type": "markdown",
      "source": "In the previous assignment, you used the frequentist approach to estimate the lower limit for the 95% confidence interval on the mean hospital charge. This approach relies on statistical theory that has been developed over the years and is also limited to statistics for which theoretical results on the sampling distribution exist. These results are remarkably useful and applicable much of the time and under a surprisingly wide range of conditions."
    },
    {
      "metadata": {},
      "cell_type": "markdown",
      "source": "Having calculated the 95% lower confidence interval using frequentist theory in the previous exercise, you'll now use bootstrap inference to verify your calculations and check that you get consistent results without making the assumptions required before. After all, the distribution of charges really was very non-normal."
    },
    {
      "metadata": {},
      "cell_type": "markdown",
      "source": "__Q:__ Use bootstrap sampling to estimate the same 95% confidence interval lower limit as before."
    },
    {
      "metadata": {},
      "cell_type": "markdown",
      "source": "__A:__"
    },
    {
      "metadata": {
        "trusted": true
      },
      "cell_type": "code",
      "source": "np.random.seed(47)\nN_rep = 10000\n\n",
      "execution_count": 16,
      "outputs": []
    },
    {
      "metadata": {
        "trusted": true
      },
      "cell_type": "code",
      "source": "def bootstrap_replicate_1d(data, func):\n    return func(np.random.choice(data, size=len(data)))",
      "execution_count": 8,
      "outputs": []
    },
    {
      "metadata": {
        "trusted": true
      },
      "cell_type": "code",
      "source": "def draw_bs_reps(data, func, size=1):\n    \"\"\"Draw bootstrap replicates.\"\"\"\n\n    # Initialize array of replicates: bs_replicates\n    bs_replicates = np.empty(size)\n\n    # Generate replicates\n    for i in range(size):\n        bs_replicates[i] = bootstrap_replicate_1d(data,func)\n\n    return bs_replicates",
      "execution_count": 9,
      "outputs": []
    },
    {
      "metadata": {
        "trusted": true
      },
      "cell_type": "code",
      "source": "charges_bs_replicates = draw_bs_reps(med_charges.charges,np.mean,size=N_rep)",
      "execution_count": 18,
      "outputs": []
    },
    {
      "metadata": {
        "trusted": true
      },
      "cell_type": "code",
      "source": "charges_95_conf_int = np.percentile(charges_bs_replicates,[2.5,97.5])\nprint('95% confidence interval = \\$', charges_95_conf_int )",
      "execution_count": 19,
      "outputs": [
        {
          "output_type": "stream",
          "text": "95% confidence interval = \\$ [12624.86211913 13918.00929997]\n",
          "name": "stdout"
        }
      ]
    },
    {
      "metadata": {
        "trusted": true
      },
      "cell_type": "code",
      "source": "",
      "execution_count": null,
      "outputs": []
    },
    {
      "metadata": {
        "trusted": true
      },
      "cell_type": "code",
      "source": "",
      "execution_count": null,
      "outputs": []
    },
    {
      "metadata": {},
      "cell_type": "markdown",
      "source": "If you performed 10000 replicates immediately after setting the random seed to 47, you should get the value 12724 here, which compares very well with the value 12725 obtained using the _t_-distribution confidence interval previously. It is a most pleasant result to see the predictions of classical frequentist theory match with results that are now possible through the number-crunching ability of computers."
    },
    {
      "metadata": {},
      "cell_type": "markdown",
      "source": "Remember, in the previous mini-projects, we saw that there are two ways of performing a _t_-test from a sample, depending on whether we can assume the groups have equal variance or not. We can actually easily test this using the bootstrap approach!"
    },
    {
      "metadata": {},
      "cell_type": "markdown",
      "source": "__Q:__ Calculate the 95% confidence interval for the difference between the standard deviations of insurance and non-insurance claim charges (insured - non-insured). Calculate the differences over 10000 replicates. Plot the histogram of values and mark the locations of the percentiles. State the null and alternative hypothesis and comment on whether you would retain or reject the null hypothesis in this case and why."
    },
    {
      "metadata": {},
      "cell_type": "markdown",
      "source": "__A:__"
    },
    {
      "metadata": {
        "trusted": true
      },
      "cell_type": "code",
      "source": "def draw_bs_pairs_deltafunc(data0, data1, func, size=1):\n    \"\"\"Perform pairs bootstrap for linear regression.\"\"\"\n\n    # Initialize array of replicates: bs_replicates\n    bs_replicates_0 = np.empty(size)\n    bs_replicates_1 = np.empty(size)\n    bs_replicates_deltafunc = np.empty(size)\n    \n    \n    # Generate replicates\n    for i in range(size):\n        bs_replicates_0[i] = bootstrap_replicate_1d(data0,func)\n        bs_replicates_1[i] = bootstrap_replicate_1d(data1,func)\n    \n    bs_replicates_deltafunc = bs_replicates_0 - bs_replicates_1\n\n    return bs_replicates_0, bs_replicates_1, bs_replicates_deltafunc\n",
      "execution_count": 20,
      "outputs": []
    },
    {
      "metadata": {
        "trusted": true
      },
      "cell_type": "code",
      "source": "med_ins0 = med_charges[med_charges.insuranceclaim == 0].charges\nmed_ins1 = med_charges[med_charges.insuranceclaim == 1].charges",
      "execution_count": 25,
      "outputs": []
    },
    {
      "metadata": {
        "trusted": true
      },
      "cell_type": "code",
      "source": "bs_replicates_ins0, bs_replicates_ins1, bs_replicates_deltastd = draw_bs_pairs_deltafunc(med_ins1, med_ins0, np.std, size=10000)",
      "execution_count": 30,
      "outputs": []
    },
    {
      "metadata": {
        "trusted": true
      },
      "cell_type": "code",
      "source": "deltastd_mean = np.mean(bs_replicates_deltastd)\nprint('mean of stardard deviation difference = $', deltastd_mean)\n\ndeltastd_95_conf_int = np.percentile(bs_replicates_deltastd,[2.5,97.5])\nprint('95% confidence interval for stardard deviation difference= $', deltastd_95_conf_int )\n",
      "execution_count": 33,
      "outputs": [
        {
          "output_type": "stream",
          "text": "mean of stardard deviation difference = $ 7595.360371763033\n95% confidence interval for stardard deviation difference= $ [6685.2144523  8512.72678193]\n",
          "name": "stdout"
        }
      ]
    },
    {
      "metadata": {
        "trusted": true,
        "scrolled": false
      },
      "cell_type": "code",
      "source": "_=plt.hist(bs_replicates_deltastd,bins=50)\n_=plt.xlabel('std deviation ($)')\n_=plt.ylabel('number of cases')\n_=plt.title('Distribution of standard deviation difference between people with and without insurance')\n_=plt.axvline(deltastd_95_conf_int[0], color='r', linestyle='--')\n_=plt.axvline(deltastd_95_conf_int[1], color='r', linestyle='--')\nplt.show()",
      "execution_count": 53,
      "outputs": [
        {
          "output_type": "display_data",
          "data": {
            "image/png": "[encoded data removed]",
            "text/plain": "<matplotlib.figure.Figure at 0x7f60001daeb8>"
          },
          "metadata": {}
        }
      ]
    },
    {
      "metadata": {},
      "cell_type": "markdown",
      "source": "The null hypothesis is that people are not charged differently whether they have insurance or not. The alternate hypothesis is that people are charged differently based on their insurance status.\n\nWith the standard deviation of charges from those with insurance is much higher than those without insurance, I would reject the null hypothesis and accept the alternative hypothesis\n\n"
    },
    {
      "metadata": {
        "trusted": true
      },
      "cell_type": "code",
      "source": "",
      "execution_count": null,
      "outputs": []
    },
    {
      "metadata": {
        "trusted": true
      },
      "cell_type": "code",
      "source": "",
      "execution_count": null,
      "outputs": []
    },
    {
      "metadata": {},
      "cell_type": "markdown",
      "source": "## Confidence interval and p-value"
    },
    {
      "metadata": {},
      "cell_type": "markdown",
      "source": "The confidence interval above is often a useful quantity to estimate. If we wish to limit our expected probability of making a Type I error (where we wrongly reject the null hypothesis, and it is, instead, true) to $\\alpha$, the associated confidence interval is our estimate of the interval within which we expect the true population value to be found $100\\times(1 - \\alpha)$% of the time we do this test. In the above we performed bootstrap replicates to estimate the interval and reject the null hypothesis if this interval did not contain zero. You will sometimes see such an interval reported in the output of statistical functions.\n\nThe partner of the confidence interval is the p-value. The p-value and the confidence interval are linked through our choice of $\\alpha$. The p-value tells us how likely it is, under the null hypothesis, to get an outcome at least as extreme as what was observed. If this fails to reach the level of our _pre-specified_ $\\alpha$, we decide the null hypothesis is sufficiently unlikely to be true and thus reject it. To calculate this p-value via the bootstrap, we have to put ourselves in a position where we are simulating the null hypothesis being true and then calculate the fraction of times we observe a result at least as extreme as that actually observed.\n\nRemember how, previously, you used the _t_-test to calculate the p-value for the observed difference between the means of insured and non-insured medical cases. We're now going to repeat this, this time using the bootstrap approach.\n\n__Q:__ Perform a bootstrapped hypothesis test at the 5% significance level ($\\alpha = 0.05$) to calculate the p-value of the observed difference between insurance and non-insurance charges, state your null and alternative hypotheses and whether you retain or reject the null hypothesis for the given significance level."
    },
    {
      "metadata": {},
      "cell_type": "markdown",
      "source": "__A:__"
    },
    {
      "metadata": {
        "trusted": false
      },
      "cell_type": "markdown",
      "source": "The null hypothesis is that the mean of medical charges from those with insurance is the same as the mean of medical charges from those without insurance.\n\nThe alternative hypothesis is that the mean of medical charges from those with insurance is different from the mean of medical charnges form those without insurance.  "
    },
    {
      "metadata": {
        "trusted": true
      },
      "cell_type": "code",
      "source": "#The difference of mean from the data:\nobs_delta_mean = np.mean(med_ins1) - np.mean(med_ins0)\nprint('Observed delta mean in medical charges = ', obs_delta_mean)",
      "execution_count": 42,
      "outputs": [
        {
          "output_type": "stream",
          "text": "Observed delta mean in medical charges =  7602.506384231368\n",
          "name": "stdout"
        }
      ]
    },
    {
      "metadata": {
        "trusted": true
      },
      "cell_type": "code",
      "source": "#Draw bootstrap relicates of mean medical charge difference\nbs_replicates_ins0, bs_replicates_ins1, bs_replicates_deltamean = draw_bs_pairs_deltafunc(med_ins1, med_ins0, np.mean, size=N_rep)",
      "execution_count": 43,
      "outputs": []
    },
    {
      "metadata": {
        "trusted": true,
        "scrolled": true
      },
      "cell_type": "code",
      "source": "#Calculate fraction of replicates that are less than or equal to the observed difference\np = np.sum(bs_replicates_deltamean <= obs_delta_mean) / len(bs_replicates_deltamean)\nprint('p-value = ', p)",
      "execution_count": 44,
      "outputs": [
        {
          "output_type": "stream",
          "text": "p-value =  0.4998\n",
          "name": "stdout"
        }
      ]
    },
    {
      "metadata": {
        "trusted": true
      },
      "cell_type": "code",
      "source": "",
      "execution_count": null,
      "outputs": []
    },
    {
      "metadata": {
        "trusted": true,
        "scrolled": true
      },
      "cell_type": "code",
      "source": "# The empirical mean of all charges:\nempirical_mean = np.mean(med_charges.charges)\nprint('Empirical mean of all medical_charges = $',empirical_mean)\nempirical_diff_mean = np.mean(med_ins1) - np.mean(med_ins0)\nprint('Empirical difference of means = $', empirical_diff_mean)",
      "execution_count": 50,
      "outputs": [
        {
          "output_type": "stream",
          "text": "Empirical mean of all medical_charges = $ 13270.422265141257\nEmpirical difference of means = $ 7602.506384231368\n",
          "name": "stdout"
        }
      ]
    },
    {
      "metadata": {
        "trusted": true
      },
      "cell_type": "code",
      "source": "#generate shifted arrays of med_ins0 and med_ins1 to share the same mean as the empirical mean\nmed_ins0_shifted = med_ins0 - np.mean(med_ins0) + empirical_mean\nmed_ins1_shifted = med_ins1 - np.mean(med_ins1) + empirical_mean",
      "execution_count": 48,
      "outputs": []
    },
    {
      "metadata": {
        "trusted": true
      },
      "cell_type": "code",
      "source": "#Draw bootstrap relicates of mean medical charge difference\nbs_replicates_shifted_ins0, bs_replicates_shifted_ins1, bs_replicates_shifted_deltamean = draw_bs_pairs_deltafunc(med_ins1_shifted, med_ins0_shifted, np.mean, size=N_rep)",
      "execution_count": 49,
      "outputs": []
    },
    {
      "metadata": {
        "trusted": true
      },
      "cell_type": "code",
      "source": "# Compute and print p-value: p\np = np.sum(bs_replicates_shifted_deltamean >= empirical_diff_mean)/ len(bs_replicates_shifted_deltamean)\nprint('p-value =', p)\n",
      "execution_count": 52,
      "outputs": [
        {
          "output_type": "stream",
          "text": "p-value = 0.0\n",
          "name": "stdout"
        }
      ]
    },
    {
      "metadata": {
        "trusted": false
      },
      "cell_type": "markdown",
      "source": "The p-value is 0.0 and smaller than alpha (0.05), indicating that we can reject the null hypothesis at 5% signifiance level."
    },
    {
      "metadata": {
        "trusted": false
      },
      "cell_type": "code",
      "source": "",
      "execution_count": null,
      "outputs": []
    },
    {
      "metadata": {
        "trusted": false
      },
      "cell_type": "code",
      "source": "",
      "execution_count": null,
      "outputs": []
    },
    {
      "metadata": {},
      "cell_type": "markdown",
      "source": "__Q:__ To put the above result in perspective, plot the histogram of your bootstrapped differences along with lines marking the locations of the observed difference. (Why would we plot more than one line, given that we only have one observed difference?)"
    },
    {
      "metadata": {},
      "cell_type": "markdown",
      "source": "__A:__"
    },
    {
      "metadata": {
        "trusted": true
      },
      "cell_type": "code",
      "source": "_=plt.hist(bs_replicates_shifted_deltamean,bins=50)\n_=plt.xlabel('Bootstrapped differences')\n_=plt.ylabel('number of replicates')\n_=plt.title('Distribution of bootstrapped difference between cases with and without insurance')\n_=plt.axvline(empirical_diff_mean, color='r', linestyle='--')\n#Also plot the 2.5 and 97.5th percentile of the obseerved difference to show the distribution of differences\n_=plt.axvline(np.percentile(med_charges.charges, [2.5]), color='r', linestyle='-.')\n_=plt.axvline(np.percentile(med_charges.charges, [97.5]), color='r', linestyle='-.')\n#\n#_=plt.axvline(deltastd_95_conf_int[1], color='r', linestyle='--')\nplt.show()",
      "execution_count": 62,
      "outputs": [
        {
          "output_type": "display_data",
          "data": {
            "image/png": "[encoded data removed]",
            "text/plain": "<matplotlib.figure.Figure at 0x7f60000da080>"
          },
          "metadata": {}
        }
      ]
    },
    {
      "metadata": {},
      "cell_type": "markdown",
      "source": "__Q:__ Compare your p-value above with that obtained using the _t_-test function in the previous assignment. Do you think you would want to try to perform enough bootstrap replicates to observe a random difference as large as that we did observe?"
    },
    {
      "metadata": {},
      "cell_type": "markdown",
      "source": "__A:__"
    },
    {
      "metadata": {},
      "cell_type": "markdown",
      "source": "No, running more replicates in an attempt to reproduce the large differenece we observed would not change the conclusion. "
    },
    {
      "metadata": {},
      "cell_type": "markdown",
      "source": "__Q:__ Consider the two variants of the _t_-test we performed in the previous assignment. Which one would you use now?"
    },
    {
      "metadata": {},
      "cell_type": "markdown",
      "source": "__A:__"
    },
    {
      "metadata": {
        "trusted": true
      },
      "cell_type": "code",
      "source": "",
      "execution_count": null,
      "outputs": []
    },
    {
      "metadata": {},
      "cell_type": "markdown",
      "source": "__Q:__ If, instead of being asked whether the means of two groups were different, you were working with an ad-recommender team who wanted to release a new recommendation algorithm, and you were looking at click-through rate both for the current algorithm (call it A) and from trials of their new algorithm (call it B), would you perform a two-sided test as above? What would be your null and alternative hypotheses and what would be the real-world consequence of rejecting the null hypothesis?"
    },
    {
      "metadata": {},
      "cell_type": "markdown",
      "source": "__A:__"
    },
    {
      "metadata": {},
      "cell_type": "markdown",
      "source": "Yes, we can perform a two-sided test as above as well. \n\nThe null hypothesis is the mean click rate with algorithm A is the same as the mean of algorithm B.\n\nThe alternative hypothesis is the click rate with algoirthm A is different from the mean of algorithm B.\n\nRejecting the null hypothesis would mean the new alogrithm B has an effect on increasing or decreasing the click-through rate."
    },
    {
      "metadata": {},
      "cell_type": "markdown",
      "source": "# Learning outcomes\n\nYou've previously applied frequentist methods to calculate confidence intervals, p-values, and perform hypothesis tests. Frequentist methods use theoretical results to calculate what we expect would happen if experiments were to be run again and again and again. Now you've seen how you can do the same things using the bootstrap approach, which does not rely on such theory, and attendant assumptions, but instead literally does run experiments again and again and again.\n\nIn these exercises, you have:\n* calculated the same confidence interval lower limit as you did previously\n* tested the assumption that the variances of the two groups (insured vs. non-insured) were equal - something a bit harder to do using the frequentist method because of the nature of the sampling distribution for variance\n* calculated the p-value for the difference between the means of the two groups and compared with the result obtained using the previous frequentist approach\n\nYou are now well equipped to apply the bootstrap approach to a wide variety of problems. Just think about what conditions you wish to recreate in your simulated reruns."
    }
  ],
  "metadata": {
    "kernelspec": {
      "name": "python3",
      "display_name": "Python 3",
      "language": "python"
    },
    "language_info": {
      "mimetype": "text/x-python",
      "nbconvert_exporter": "python",
      "name": "python",
      "file_extension": ".py",
      "version": "3.5.4",
      "pygments_lexer": "ipython3",
      "codemirror_mode": {
        "version": 3,
        "name": "ipython"
      }
    }
  },
  "nbformat": 4,
  "nbformat_minor": 2
}