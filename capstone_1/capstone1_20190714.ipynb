{
 "cells": [
  {
   "cell_type": "code",
   "execution_count": 1,
   "metadata": {},
   "outputs": [],
   "source": [
    "import os\n",
    "import numpy as np\n",
    "import pandas as pd\n",
    "from nltk.tokenize import word_tokenize\n",
    "from nltk import sent_tokenize"
   ]
  },
  {
   "cell_type": "code",
   "execution_count": 2,
   "metadata": {},
   "outputs": [
    {
     "name": "stdout",
     "output_type": "stream",
     "text": [
      "/Users/siegfried/Documents/springboard/capstone1\n"
     ]
    }
   ],
   "source": [
    "cwd = os.getcwd()\n",
    "print(cwd)"
   ]
  },
  {
   "cell_type": "code",
   "execution_count": 3,
   "metadata": {},
   "outputs": [],
   "source": [
    "reviews_echo_show_1stgen = cwd+'/data_scrapping/amazon_reviews_echo_show_1stgen_022819.csv'"
   ]
  },
  {
   "cell_type": "code",
   "execution_count": 4,
   "metadata": {
    "scrolled": true
   },
   "outputs": [
    {
     "data": {
      "text/html": [
       "<div>\n",
       "<style scoped>\n",
       "    .dataframe tbody tr th:only-of-type {\n",
       "        vertical-align: middle;\n",
       "    }\n",
       "\n",
       "    .dataframe tbody tr th {\n",
       "        vertical-align: top;\n",
       "    }\n",
       "\n",
       "    .dataframe thead th {\n",
       "        text-align: right;\n",
       "    }\n",
       "</style>\n",
       "<table border=\"1\" class=\"dataframe\">\n",
       "  <thead>\n",
       "    <tr style=\"text-align: right;\">\n",
       "      <th></th>\n",
       "      <th>web-scraper-order</th>\n",
       "      <th>web-scraper-start-url</th>\n",
       "      <th>author</th>\n",
       "      <th>title</th>\n",
       "      <th>date</th>\n",
       "      <th>content</th>\n",
       "      <th>rating</th>\n",
       "      <th>next</th>\n",
       "      <th>next-href</th>\n",
       "    </tr>\n",
       "  </thead>\n",
       "  <tbody>\n",
       "    <tr>\n",
       "      <th>0</th>\n",
       "      <td>1551346435-14168</td>\n",
       "      <td>https://www.amazon.com/Echo-Show-1st-Generatio...</td>\n",
       "      <td>Enrique G. Cruz</td>\n",
       "      <td>Echo \"no\" show?</td>\n",
       "      <td>January 25, 2018</td>\n",
       "      <td>Has potential . I believe with future firmware...</td>\n",
       "      <td>3.0 out of 5 stars</td>\n",
       "      <td>Next page→</td>\n",
       "      <td>https://www.amazon.com/Echo-Show-1st-Generatio...</td>\n",
       "    </tr>\n",
       "    <tr>\n",
       "      <th>1</th>\n",
       "      <td>1551346776-15337</td>\n",
       "      <td>https://www.amazon.com/Echo-Show-1st-Generatio...</td>\n",
       "      <td>steve</td>\n",
       "      <td>Looks a little dated but we are very happy wit...</td>\n",
       "      <td>July 22, 2017</td>\n",
       "      <td>We like it very much so far it's been our expe...</td>\n",
       "      <td>4.0 out of 5 stars</td>\n",
       "      <td>Next page→</td>\n",
       "      <td>https://www.amazon.com/Echo-Show-1st-Generatio...</td>\n",
       "    </tr>\n",
       "    <tr>\n",
       "      <th>2</th>\n",
       "      <td>1551346568-14648</td>\n",
       "      <td>https://www.amazon.com/Echo-Show-1st-Generatio...</td>\n",
       "      <td>Michael H. Charles</td>\n",
       "      <td>A good product that will get better</td>\n",
       "      <td>August 27, 2018</td>\n",
       "      <td>All things considered, I think it’s a great pr...</td>\n",
       "      <td>4.0 out of 5 stars</td>\n",
       "      <td>Next page→</td>\n",
       "      <td>https://www.amazon.com/Echo-Show-1st-Generatio...</td>\n",
       "    </tr>\n",
       "    <tr>\n",
       "      <th>3</th>\n",
       "      <td>1551346386-13986</td>\n",
       "      <td>https://www.amazon.com/Echo-Show-1st-Generatio...</td>\n",
       "      <td>Denny Thomas</td>\n",
       "      <td>The digital assistant is truly amazing once yo...</td>\n",
       "      <td>March 5, 2018</td>\n",
       "      <td>The Amazon Echo Show is a must have in your ho...</td>\n",
       "      <td>5.0 out of 5 stars</td>\n",
       "      <td>Next page→</td>\n",
       "      <td>https://www.amazon.com/Echo-Show-1st-Generatio...</td>\n",
       "    </tr>\n",
       "    <tr>\n",
       "      <th>4</th>\n",
       "      <td>1551346407-14067</td>\n",
       "      <td>https://www.amazon.com/Echo-Show-1st-Generatio...</td>\n",
       "      <td>Happy</td>\n",
       "      <td>Echo Show - Black</td>\n",
       "      <td>July 5, 2017</td>\n",
       "      <td>i wrote a review within hours of opening the b...</td>\n",
       "      <td>5.0 out of 5 stars</td>\n",
       "      <td>Next page→</td>\n",
       "      <td>https://www.amazon.com/Echo-Show-1st-Generatio...</td>\n",
       "    </tr>\n",
       "  </tbody>\n",
       "</table>\n",
       "</div>"
      ],
      "text/plain": [
       "  web-scraper-order                              web-scraper-start-url  \\\n",
       "0  1551346435-14168  https://www.amazon.com/Echo-Show-1st-Generatio...   \n",
       "1  1551346776-15337  https://www.amazon.com/Echo-Show-1st-Generatio...   \n",
       "2  1551346568-14648  https://www.amazon.com/Echo-Show-1st-Generatio...   \n",
       "3  1551346386-13986  https://www.amazon.com/Echo-Show-1st-Generatio...   \n",
       "4  1551346407-14067  https://www.amazon.com/Echo-Show-1st-Generatio...   \n",
       "\n",
       "               author                                              title  \\\n",
       "0     Enrique G. Cruz                                    Echo \"no\" show?   \n",
       "1               steve  Looks a little dated but we are very happy wit...   \n",
       "2  Michael H. Charles                A good product that will get better   \n",
       "3        Denny Thomas  The digital assistant is truly amazing once yo...   \n",
       "4               Happy                                  Echo Show - Black   \n",
       "\n",
       "               date                                            content  \\\n",
       "0  January 25, 2018  Has potential . I believe with future firmware...   \n",
       "1     July 22, 2017  We like it very much so far it's been our expe...   \n",
       "2   August 27, 2018  All things considered, I think it’s a great pr...   \n",
       "3     March 5, 2018  The Amazon Echo Show is a must have in your ho...   \n",
       "4      July 5, 2017  i wrote a review within hours of opening the b...   \n",
       "\n",
       "               rating        next  \\\n",
       "0  3.0 out of 5 stars  Next page→   \n",
       "1  4.0 out of 5 stars  Next page→   \n",
       "2  4.0 out of 5 stars  Next page→   \n",
       "3  5.0 out of 5 stars  Next page→   \n",
       "4  5.0 out of 5 stars  Next page→   \n",
       "\n",
       "                                           next-href  \n",
       "0  https://www.amazon.com/Echo-Show-1st-Generatio...  \n",
       "1  https://www.amazon.com/Echo-Show-1st-Generatio...  \n",
       "2  https://www.amazon.com/Echo-Show-1st-Generatio...  \n",
       "3  https://www.amazon.com/Echo-Show-1st-Generatio...  \n",
       "4  https://www.amazon.com/Echo-Show-1st-Generatio...  "
      ]
     },
     "execution_count": 4,
     "metadata": {},
     "output_type": "execute_result"
    }
   ],
   "source": [
    "reviews_echoshow1 = pd.read_csv(reviews_echo_show_1stgen)\n",
    "reviews_echoshow1.head()"
   ]
  },
  {
   "cell_type": "code",
   "execution_count": 5,
   "metadata": {},
   "outputs": [],
   "source": [
    "reviews_echoshow1['product'] = 'Echo Show 1st generation'"
   ]
  },
  {
   "cell_type": "code",
   "execution_count": 6,
   "metadata": {},
   "outputs": [],
   "source": [
    "reviews_echoshow1['date'] = pd.to_datetime(reviews_echoshow1['date'])"
   ]
  },
  {
   "cell_type": "code",
   "execution_count": 7,
   "metadata": {},
   "outputs": [],
   "source": [
    "reviews_echoshow1['title_preprocessed_tokenized_words'] = reviews_echoshow1['title'].astype(str).apply(word_tokenize)\n",
    "reviews_echoshow1['review_preprocessed_tokenized_words'] = reviews_echoshow1['content'].astype(str).apply(word_tokenize)"
   ]
  },
  {
   "cell_type": "code",
   "execution_count": 8,
   "metadata": {},
   "outputs": [
    {
     "data": {
      "text/html": [
       "<div>\n",
       "<style scoped>\n",
       "    .dataframe tbody tr th:only-of-type {\n",
       "        vertical-align: middle;\n",
       "    }\n",
       "\n",
       "    .dataframe tbody tr th {\n",
       "        vertical-align: top;\n",
       "    }\n",
       "\n",
       "    .dataframe thead th {\n",
       "        text-align: right;\n",
       "    }\n",
       "</style>\n",
       "<table border=\"1\" class=\"dataframe\">\n",
       "  <thead>\n",
       "    <tr style=\"text-align: right;\">\n",
       "      <th></th>\n",
       "      <th>product</th>\n",
       "      <th>date</th>\n",
       "      <th>title_preprocessed_tokenized_words</th>\n",
       "      <th>review_preprocessed_tokenized_words</th>\n",
       "    </tr>\n",
       "  </thead>\n",
       "  <tbody>\n",
       "    <tr>\n",
       "      <th>0</th>\n",
       "      <td>Echo Show 1st generation</td>\n",
       "      <td>2018-01-25</td>\n",
       "      <td>[Echo, ``, no, '', show, ?]</td>\n",
       "      <td>[Has, potential, ., I, believe, with, future, ...</td>\n",
       "    </tr>\n",
       "    <tr>\n",
       "      <th>1</th>\n",
       "      <td>Echo Show 1st generation</td>\n",
       "      <td>2017-07-22</td>\n",
       "      <td>[Looks, a, little, dated, but, we, are, very, ...</td>\n",
       "      <td>[We, like, it, very, much, so, far, it, 's, be...</td>\n",
       "    </tr>\n",
       "    <tr>\n",
       "      <th>2</th>\n",
       "      <td>Echo Show 1st generation</td>\n",
       "      <td>2018-08-27</td>\n",
       "      <td>[A, good, product, that, will, get, better]</td>\n",
       "      <td>[All, things, considered, ,, I, think, it, ’, ...</td>\n",
       "    </tr>\n",
       "    <tr>\n",
       "      <th>3</th>\n",
       "      <td>Echo Show 1st generation</td>\n",
       "      <td>2018-03-05</td>\n",
       "      <td>[The, digital, assistant, is, truly, amazing, ...</td>\n",
       "      <td>[The, Amazon, Echo, Show, is, a, must, have, i...</td>\n",
       "    </tr>\n",
       "    <tr>\n",
       "      <th>4</th>\n",
       "      <td>Echo Show 1st generation</td>\n",
       "      <td>2017-07-05</td>\n",
       "      <td>[Echo, Show, -, Black]</td>\n",
       "      <td>[i, wrote, a, review, within, hours, of, openi...</td>\n",
       "    </tr>\n",
       "  </tbody>\n",
       "</table>\n",
       "</div>"
      ],
      "text/plain": [
       "                    product       date  \\\n",
       "0  Echo Show 1st generation 2018-01-25   \n",
       "1  Echo Show 1st generation 2017-07-22   \n",
       "2  Echo Show 1st generation 2018-08-27   \n",
       "3  Echo Show 1st generation 2018-03-05   \n",
       "4  Echo Show 1st generation 2017-07-05   \n",
       "\n",
       "                  title_preprocessed_tokenized_words  \\\n",
       "0                        [Echo, ``, no, '', show, ?]   \n",
       "1  [Looks, a, little, dated, but, we, are, very, ...   \n",
       "2        [A, good, product, that, will, get, better]   \n",
       "3  [The, digital, assistant, is, truly, amazing, ...   \n",
       "4                             [Echo, Show, -, Black]   \n",
       "\n",
       "                 review_preprocessed_tokenized_words  \n",
       "0  [Has, potential, ., I, believe, with, future, ...  \n",
       "1  [We, like, it, very, much, so, far, it, 's, be...  \n",
       "2  [All, things, considered, ,, I, think, it, ’, ...  \n",
       "3  [The, Amazon, Echo, Show, is, a, must, have, i...  \n",
       "4  [i, wrote, a, review, within, hours, of, openi...  "
      ]
     },
     "execution_count": 8,
     "metadata": {},
     "output_type": "execute_result"
    }
   ],
   "source": [
    "reviews_echoshow1[['product','date','title_preprocessed_tokenized_words','review_preprocessed_tokenized_words']].head()"
   ]
  },
  {
   "cell_type": "code",
   "execution_count": 9,
   "metadata": {},
   "outputs": [],
   "source": [
    "def process_tokens(x):\n",
    "    wlist = []\n",
    "    #punctuation table\n",
    "    import string\n",
    "    punct_table = str.maketrans('','',string.punctuation)\n",
    "    \n",
    "    #stop words filter\n",
    "    from nltk.corpus import stopwords\n",
    "    stopwords_list = set(stopwords.words('english'))\n",
    "\n",
    "    #change all words to lower case and remove punctuation\n",
    "    for w in x:\n",
    "        new_w = w.lower().translate(punct_table)\n",
    "        #keep words that are alphabetic and not in the stop words list\n",
    "        if new_w.isalpha() and not new_w in stopwords_list:\n",
    "            wlist.append(new_w)\n",
    "    #return processed word list\n",
    "    return(wlist)"
   ]
  },
  {
   "cell_type": "code",
   "execution_count": 10,
   "metadata": {},
   "outputs": [],
   "source": [
    "reviews_echoshow1['title_tokenized_words'] = reviews_echoshow1['title_preprocessed_tokenized_words'].apply(process_tokens)\n",
    "reviews_echoshow1['review_tokenized_words'] = reviews_echoshow1['review_preprocessed_tokenized_words'].apply(process_tokens)"
   ]
  },
  {
   "cell_type": "code",
   "execution_count": 11,
   "metadata": {},
   "outputs": [
    {
     "data": {
      "text/plain": [
       "4000    1.0\n",
       "495     1.0\n",
       "2101    1.0\n",
       "2100    1.0\n",
       "2092    1.0\n",
       "2090    1.0\n",
       "2088    1.0\n",
       "2085    1.0\n",
       "2126    1.0\n",
       "2082    1.0\n",
       "2066    1.0\n",
       "2059    1.0\n",
       "2057    1.0\n",
       "2050    1.0\n",
       "2046    1.0\n",
       "2039    1.0\n",
       "514     1.0\n",
       "2075    1.0\n",
       "2028    1.0\n",
       "2129    1.0\n",
       "2135    1.0\n",
       "2241    1.0\n",
       "2237    1.0\n",
       "465     1.0\n",
       "2232    1.0\n",
       "2231    1.0\n",
       "468     1.0\n",
       "2219    1.0\n",
       "2133    1.0\n",
       "2217    1.0\n",
       "       ... \n",
       "2182    5.0\n",
       "2175    5.0\n",
       "2184    5.0\n",
       "2189    5.0\n",
       "2190    5.0\n",
       "2191    5.0\n",
       "480     5.0\n",
       "2193    5.0\n",
       "2195    5.0\n",
       "2187    5.0\n",
       "489     5.0\n",
       "2174    5.0\n",
       "2170    5.0\n",
       "2144    5.0\n",
       "2145    5.0\n",
       "487     5.0\n",
       "486     5.0\n",
       "2149    5.0\n",
       "484     5.0\n",
       "2173    5.0\n",
       "2153    5.0\n",
       "2159    5.0\n",
       "2161    5.0\n",
       "2162    5.0\n",
       "2164    5.0\n",
       "2167    5.0\n",
       "2168    5.0\n",
       "2156    5.0\n",
       "2420    5.0\n",
       "396     NaN\n",
       "Name: rating, Length: 4001, dtype: object"
      ]
     },
     "execution_count": 11,
     "metadata": {},
     "output_type": "execute_result"
    }
   ],
   "source": [
    "reviews_echoshow1.rating.str.replace(' out of 5 stars','').sort_values()"
   ]
  },
  {
   "cell_type": "code",
   "execution_count": 12,
   "metadata": {},
   "outputs": [],
   "source": [
    "reviews_echoshow1['star_rating'] = reviews_echoshow1.rating.str.replace('.0 out of 5 stars','').fillna('0')\n",
    "reviews_echoshow1['star_rating'] = pd.to_numeric(reviews_echoshow1['star_rating'])"
   ]
  },
  {
   "cell_type": "code",
   "execution_count": 13,
   "metadata": {},
   "outputs": [],
   "source": [
    "reviews_echoshow1['title_length'] = reviews_echoshow1['title'].apply(lambda x: len(str(x)))\n",
    "reviews_echoshow1['review_length'] = reviews_echoshow1['content'].apply(lambda x: len(str(x)))"
   ]
  },
  {
   "cell_type": "code",
   "execution_count": 14,
   "metadata": {},
   "outputs": [
    {
     "data": {
      "text/plain": [
       "Index(['web-scraper-order', 'web-scraper-start-url', 'author', 'title', 'date',\n",
       "       'content', 'rating', 'next', 'next-href', 'product',\n",
       "       'title_preprocessed_tokenized_words',\n",
       "       'review_preprocessed_tokenized_words', 'title_tokenized_words',\n",
       "       'review_tokenized_words', 'star_rating', 'title_length',\n",
       "       'review_length'],\n",
       "      dtype='object')"
      ]
     },
     "execution_count": 14,
     "metadata": {},
     "output_type": "execute_result"
    }
   ],
   "source": [
    "reviews_echoshow1.columns"
   ]
  },
  {
   "cell_type": "code",
   "execution_count": 15,
   "metadata": {},
   "outputs": [],
   "source": [
    "col_list = [\n",
    "            'product',\n",
    "            'date',\n",
    "            'author',\n",
    "            'title',\n",
    "            'content',\n",
    "            'title_tokenized_words',\n",
    "            'review_tokenized_words',\n",
    "            'star_rating',\n",
    "            'title_length',\n",
    "            'review_length'\n",
    "            ]"
   ]
  },
  {
   "cell_type": "code",
   "execution_count": 16,
   "metadata": {},
   "outputs": [],
   "source": [
    "cleaned_echoshow1 = pd.DataFrame(reviews_echoshow1[col_list])"
   ]
  },
  {
   "cell_type": "code",
   "execution_count": 17,
   "metadata": {},
   "outputs": [
    {
     "data": {
      "text/html": [
       "<div>\n",
       "<style scoped>\n",
       "    .dataframe tbody tr th:only-of-type {\n",
       "        vertical-align: middle;\n",
       "    }\n",
       "\n",
       "    .dataframe tbody tr th {\n",
       "        vertical-align: top;\n",
       "    }\n",
       "\n",
       "    .dataframe thead th {\n",
       "        text-align: right;\n",
       "    }\n",
       "</style>\n",
       "<table border=\"1\" class=\"dataframe\">\n",
       "  <thead>\n",
       "    <tr style=\"text-align: right;\">\n",
       "      <th></th>\n",
       "      <th>product</th>\n",
       "      <th>date</th>\n",
       "      <th>author</th>\n",
       "      <th>title</th>\n",
       "      <th>content</th>\n",
       "      <th>title_tokenized_words</th>\n",
       "      <th>review_tokenized_words</th>\n",
       "      <th>star_rating</th>\n",
       "      <th>title_length</th>\n",
       "      <th>review_length</th>\n",
       "    </tr>\n",
       "  </thead>\n",
       "  <tbody>\n",
       "    <tr>\n",
       "      <th>0</th>\n",
       "      <td>Echo Show 1st generation</td>\n",
       "      <td>2018-01-25</td>\n",
       "      <td>Enrique G. Cruz</td>\n",
       "      <td>Echo \"no\" show?</td>\n",
       "      <td>Has potential . I believe with future firmware...</td>\n",
       "      <td>[echo, show]</td>\n",
       "      <td>[potential, believe, future, firmware, upgrade...</td>\n",
       "      <td>3</td>\n",
       "      <td>15</td>\n",
       "      <td>832</td>\n",
       "    </tr>\n",
       "    <tr>\n",
       "      <th>1</th>\n",
       "      <td>Echo Show 1st generation</td>\n",
       "      <td>2017-07-22</td>\n",
       "      <td>steve</td>\n",
       "      <td>Looks a little dated but we are very happy wit...</td>\n",
       "      <td>We like it very much so far it's been our expe...</td>\n",
       "      <td>[looks, little, dated, happy]</td>\n",
       "      <td>[like, much, far, expectations, kind, wish, li...</td>\n",
       "      <td>4</td>\n",
       "      <td>50</td>\n",
       "      <td>208</td>\n",
       "    </tr>\n",
       "    <tr>\n",
       "      <th>2</th>\n",
       "      <td>Echo Show 1st generation</td>\n",
       "      <td>2018-08-27</td>\n",
       "      <td>Michael H. Charles</td>\n",
       "      <td>A good product that will get better</td>\n",
       "      <td>All things considered, I think it’s a great pr...</td>\n",
       "      <td>[good, product, get, better]</td>\n",
       "      <td>[things, considered, think, great, product, wo...</td>\n",
       "      <td>4</td>\n",
       "      <td>35</td>\n",
       "      <td>375</td>\n",
       "    </tr>\n",
       "    <tr>\n",
       "      <th>3</th>\n",
       "      <td>Echo Show 1st generation</td>\n",
       "      <td>2018-03-05</td>\n",
       "      <td>Denny Thomas</td>\n",
       "      <td>The digital assistant is truly amazing once yo...</td>\n",
       "      <td>The Amazon Echo Show is a must have in your ho...</td>\n",
       "      <td>[digital, assistant, truly, amazing, enable, s...</td>\n",
       "      <td>[amazon, echo, show, must, house, digital, ass...</td>\n",
       "      <td>5</td>\n",
       "      <td>97</td>\n",
       "      <td>1049</td>\n",
       "    </tr>\n",
       "    <tr>\n",
       "      <th>4</th>\n",
       "      <td>Echo Show 1st generation</td>\n",
       "      <td>2017-07-05</td>\n",
       "      <td>Happy</td>\n",
       "      <td>Echo Show - Black</td>\n",
       "      <td>i wrote a review within hours of opening the b...</td>\n",
       "      <td>[echo, show, black]</td>\n",
       "      <td>[wrote, review, within, hours, opening, box, s...</td>\n",
       "      <td>5</td>\n",
       "      <td>17</td>\n",
       "      <td>1069</td>\n",
       "    </tr>\n",
       "  </tbody>\n",
       "</table>\n",
       "</div>"
      ],
      "text/plain": [
       "                    product       date              author  \\\n",
       "0  Echo Show 1st generation 2018-01-25     Enrique G. Cruz   \n",
       "1  Echo Show 1st generation 2017-07-22               steve   \n",
       "2  Echo Show 1st generation 2018-08-27  Michael H. Charles   \n",
       "3  Echo Show 1st generation 2018-03-05        Denny Thomas   \n",
       "4  Echo Show 1st generation 2017-07-05               Happy   \n",
       "\n",
       "                                               title  \\\n",
       "0                                    Echo \"no\" show?   \n",
       "1  Looks a little dated but we are very happy wit...   \n",
       "2                A good product that will get better   \n",
       "3  The digital assistant is truly amazing once yo...   \n",
       "4                                  Echo Show - Black   \n",
       "\n",
       "                                             content  \\\n",
       "0  Has potential . I believe with future firmware...   \n",
       "1  We like it very much so far it's been our expe...   \n",
       "2  All things considered, I think it’s a great pr...   \n",
       "3  The Amazon Echo Show is a must have in your ho...   \n",
       "4  i wrote a review within hours of opening the b...   \n",
       "\n",
       "                               title_tokenized_words  \\\n",
       "0                                       [echo, show]   \n",
       "1                      [looks, little, dated, happy]   \n",
       "2                       [good, product, get, better]   \n",
       "3  [digital, assistant, truly, amazing, enable, s...   \n",
       "4                                [echo, show, black]   \n",
       "\n",
       "                              review_tokenized_words  star_rating  \\\n",
       "0  [potential, believe, future, firmware, upgrade...            3   \n",
       "1  [like, much, far, expectations, kind, wish, li...            4   \n",
       "2  [things, considered, think, great, product, wo...            4   \n",
       "3  [amazon, echo, show, must, house, digital, ass...            5   \n",
       "4  [wrote, review, within, hours, opening, box, s...            5   \n",
       "\n",
       "   title_length  review_length  \n",
       "0            15            832  \n",
       "1            50            208  \n",
       "2            35            375  \n",
       "3            97           1049  \n",
       "4            17           1069  "
      ]
     },
     "execution_count": 17,
     "metadata": {},
     "output_type": "execute_result"
    }
   ],
   "source": [
    "cleaned_echoshow1.head()"
   ]
  },
  {
   "cell_type": "code",
   "execution_count": null,
   "metadata": {},
   "outputs": [],
   "source": []
  },
  {
   "cell_type": "code",
   "execution_count": 18,
   "metadata": {},
   "outputs": [],
   "source": [
    "import gensim\n",
    "from gensim.models import Word2Vec\n",
    "\n",
    "data = cleaned_echoshow1['review_tokenized_words']\n",
    "#create CBOW model\n",
    "model1 = gensim.models.Word2Vec(data,min_count = 1, size = 100, window = 5)\n",
    "model2 = gensim.models.Word2Vec(data,min_count = 1, size = 100, window = 5, sg = 1 )"
   ]
  },
  {
   "cell_type": "code",
   "execution_count": 19,
   "metadata": {},
   "outputs": [
    {
     "name": "stdout",
     "output_type": "stream",
     "text": [
      "0.7148872231936372\n",
      "0.8152398959394193\n"
     ]
    }
   ],
   "source": [
    "print(model1.wv.similarity('echo','good'))\n",
    "print(model1.wv.similarity('echo','bad'))"
   ]
  },
  {
   "cell_type": "code",
   "execution_count": 20,
   "metadata": {},
   "outputs": [
    {
     "name": "stdout",
     "output_type": "stream",
     "text": [
      "0.5555339809428333\n",
      "0.6535314395534915\n"
     ]
    }
   ],
   "source": [
    "print(model2.wv.similarity('echo','good'))\n",
    "print(model2.wv.similarity('echo','bad'))"
   ]
  },
  {
   "cell_type": "code",
   "execution_count": null,
   "metadata": {},
   "outputs": [],
   "source": []
  }
 ],
 "metadata": {
  "kernelspec": {
   "display_name": "Python 3",
   "language": "python",
   "name": "python3"
  },
  "language_info": {
   "codemirror_mode": {
    "name": "ipython",
    "version": 3
   },
   "file_extension": ".py",
   "mimetype": "text/x-python",
   "name": "python",
   "nbconvert_exporter": "python",
   "pygments_lexer": "ipython3",
   "version": "3.7.3"
  }
 },
 "nbformat": 4,
 "nbformat_minor": 2
}
