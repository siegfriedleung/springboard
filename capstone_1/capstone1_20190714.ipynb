{
 "cells": [
  {
   "cell_type": "code",
   "execution_count": 1,
   "metadata": {},
   "outputs": [],
   "source": [
    "import numpy as np\n",
    "import pandas as pd\n",
    "from nltk.tokenize import word_tokenize\n",
    "from nltk import sent_tokenize"
   ]
  },
  {
   "cell_type": "code",
   "execution_count": 2,
   "metadata": {},
   "outputs": [],
   "source": [
    "import os\n",
    "cwd = os.getcwd()"
   ]
  },
  {
   "cell_type": "code",
   "execution_count": 3,
   "metadata": {},
   "outputs": [
    {
     "name": "stdout",
     "output_type": "stream",
     "text": [
      "/Users/siegfried/Documents/springboard/capstone1\n"
     ]
    }
   ],
   "source": [
    "print(cwd)"
   ]
  },
  {
   "cell_type": "code",
   "execution_count": 4,
   "metadata": {},
   "outputs": [],
   "source": [
    "reviews_echo_show_1stgen = cwd+'/data_scrapping/amazon_reviews_echo_show_1stgen_022819.csv'"
   ]
  },
  {
   "cell_type": "code",
   "execution_count": 5,
   "metadata": {
    "scrolled": true
   },
   "outputs": [],
   "source": [
    "reviews_echoshow1 = pd.read_csv(reviews_echo_show_1stgen)"
   ]
  },
  {
   "cell_type": "code",
   "execution_count": 6,
   "metadata": {},
   "outputs": [
    {
     "data": {
      "text/html": [
       "<div>\n",
       "<style scoped>\n",
       "    .dataframe tbody tr th:only-of-type {\n",
       "        vertical-align: middle;\n",
       "    }\n",
       "\n",
       "    .dataframe tbody tr th {\n",
       "        vertical-align: top;\n",
       "    }\n",
       "\n",
       "    .dataframe thead th {\n",
       "        text-align: right;\n",
       "    }\n",
       "</style>\n",
       "<table border=\"1\" class=\"dataframe\">\n",
       "  <thead>\n",
       "    <tr style=\"text-align: right;\">\n",
       "      <th></th>\n",
       "      <th>web-scraper-order</th>\n",
       "      <th>web-scraper-start-url</th>\n",
       "      <th>author</th>\n",
       "      <th>title</th>\n",
       "      <th>date</th>\n",
       "      <th>content</th>\n",
       "      <th>rating</th>\n",
       "      <th>next</th>\n",
       "      <th>next-href</th>\n",
       "    </tr>\n",
       "  </thead>\n",
       "  <tbody>\n",
       "    <tr>\n",
       "      <th>0</th>\n",
       "      <td>1551346435-14168</td>\n",
       "      <td>https://www.amazon.com/Echo-Show-1st-Generatio...</td>\n",
       "      <td>Enrique G. Cruz</td>\n",
       "      <td>Echo \"no\" show?</td>\n",
       "      <td>January 25, 2018</td>\n",
       "      <td>Has potential . I believe with future firmware...</td>\n",
       "      <td>3.0 out of 5 stars</td>\n",
       "      <td>Next page→</td>\n",
       "      <td>https://www.amazon.com/Echo-Show-1st-Generatio...</td>\n",
       "    </tr>\n",
       "    <tr>\n",
       "      <th>1</th>\n",
       "      <td>1551346776-15337</td>\n",
       "      <td>https://www.amazon.com/Echo-Show-1st-Generatio...</td>\n",
       "      <td>steve</td>\n",
       "      <td>Looks a little dated but we are very happy wit...</td>\n",
       "      <td>July 22, 2017</td>\n",
       "      <td>We like it very much so far it's been our expe...</td>\n",
       "      <td>4.0 out of 5 stars</td>\n",
       "      <td>Next page→</td>\n",
       "      <td>https://www.amazon.com/Echo-Show-1st-Generatio...</td>\n",
       "    </tr>\n",
       "    <tr>\n",
       "      <th>2</th>\n",
       "      <td>1551346568-14648</td>\n",
       "      <td>https://www.amazon.com/Echo-Show-1st-Generatio...</td>\n",
       "      <td>Michael H. Charles</td>\n",
       "      <td>A good product that will get better</td>\n",
       "      <td>August 27, 2018</td>\n",
       "      <td>All things considered, I think it’s a great pr...</td>\n",
       "      <td>4.0 out of 5 stars</td>\n",
       "      <td>Next page→</td>\n",
       "      <td>https://www.amazon.com/Echo-Show-1st-Generatio...</td>\n",
       "    </tr>\n",
       "    <tr>\n",
       "      <th>3</th>\n",
       "      <td>1551346386-13986</td>\n",
       "      <td>https://www.amazon.com/Echo-Show-1st-Generatio...</td>\n",
       "      <td>Denny Thomas</td>\n",
       "      <td>The digital assistant is truly amazing once yo...</td>\n",
       "      <td>March 5, 2018</td>\n",
       "      <td>The Amazon Echo Show is a must have in your ho...</td>\n",
       "      <td>5.0 out of 5 stars</td>\n",
       "      <td>Next page→</td>\n",
       "      <td>https://www.amazon.com/Echo-Show-1st-Generatio...</td>\n",
       "    </tr>\n",
       "    <tr>\n",
       "      <th>4</th>\n",
       "      <td>1551346407-14067</td>\n",
       "      <td>https://www.amazon.com/Echo-Show-1st-Generatio...</td>\n",
       "      <td>Happy</td>\n",
       "      <td>Echo Show - Black</td>\n",
       "      <td>July 5, 2017</td>\n",
       "      <td>i wrote a review within hours of opening the b...</td>\n",
       "      <td>5.0 out of 5 stars</td>\n",
       "      <td>Next page→</td>\n",
       "      <td>https://www.amazon.com/Echo-Show-1st-Generatio...</td>\n",
       "    </tr>\n",
       "  </tbody>\n",
       "</table>\n",
       "</div>"
      ],
      "text/plain": [
       "  web-scraper-order                              web-scraper-start-url  \\\n",
       "0  1551346435-14168  https://www.amazon.com/Echo-Show-1st-Generatio...   \n",
       "1  1551346776-15337  https://www.amazon.com/Echo-Show-1st-Generatio...   \n",
       "2  1551346568-14648  https://www.amazon.com/Echo-Show-1st-Generatio...   \n",
       "3  1551346386-13986  https://www.amazon.com/Echo-Show-1st-Generatio...   \n",
       "4  1551346407-14067  https://www.amazon.com/Echo-Show-1st-Generatio...   \n",
       "\n",
       "               author                                              title  \\\n",
       "0     Enrique G. Cruz                                    Echo \"no\" show?   \n",
       "1               steve  Looks a little dated but we are very happy wit...   \n",
       "2  Michael H. Charles                A good product that will get better   \n",
       "3        Denny Thomas  The digital assistant is truly amazing once yo...   \n",
       "4               Happy                                  Echo Show - Black   \n",
       "\n",
       "               date                                            content  \\\n",
       "0  January 25, 2018  Has potential . I believe with future firmware...   \n",
       "1     July 22, 2017  We like it very much so far it's been our expe...   \n",
       "2   August 27, 2018  All things considered, I think it’s a great pr...   \n",
       "3     March 5, 2018  The Amazon Echo Show is a must have in your ho...   \n",
       "4      July 5, 2017  i wrote a review within hours of opening the b...   \n",
       "\n",
       "               rating        next  \\\n",
       "0  3.0 out of 5 stars  Next page→   \n",
       "1  4.0 out of 5 stars  Next page→   \n",
       "2  4.0 out of 5 stars  Next page→   \n",
       "3  5.0 out of 5 stars  Next page→   \n",
       "4  5.0 out of 5 stars  Next page→   \n",
       "\n",
       "                                           next-href  \n",
       "0  https://www.amazon.com/Echo-Show-1st-Generatio...  \n",
       "1  https://www.amazon.com/Echo-Show-1st-Generatio...  \n",
       "2  https://www.amazon.com/Echo-Show-1st-Generatio...  \n",
       "3  https://www.amazon.com/Echo-Show-1st-Generatio...  \n",
       "4  https://www.amazon.com/Echo-Show-1st-Generatio...  "
      ]
     },
     "execution_count": 6,
     "metadata": {},
     "output_type": "execute_result"
    }
   ],
   "source": [
    "reviews_echoshow1.head()"
   ]
  },
  {
   "cell_type": "code",
   "execution_count": 7,
   "metadata": {},
   "outputs": [],
   "source": [
    "#reviews_echoshow1['tokenized_sents'] = reviews_echoshow1['content'].astype(str).apply(sent_tokenize)\n",
    "reviews_echoshow1['preprocessed_tokenized_words'] = reviews_echoshow1['content'].astype(str).apply(word_tokenize)"
   ]
  },
  {
   "cell_type": "code",
   "execution_count": 8,
   "metadata": {},
   "outputs": [],
   "source": [
    "def process_tokens(x):\n",
    "    wlist = []\n",
    "    #punctuation table\n",
    "    import string\n",
    "    punct_table = str.maketrans('','',string.punctuation)\n",
    "    \n",
    "    #stop words filter\n",
    "    from nltk.corpus import stopwords\n",
    "    stopwords_list = set(stopwords.words('english'))\n",
    "\n",
    "    #change all words to lower case and remove punctuation\n",
    "    for w in x:\n",
    "        new_w = w.lower().translate(punct_table)\n",
    "        #keep words that are alphabetic and not in the stop words list\n",
    "        if new_w.isalpha() and not new_w in stopwords_list:\n",
    "            wlist.append(new_w)\n",
    "    #return processed word list\n",
    "    return(wlist)"
   ]
  },
  {
   "cell_type": "code",
   "execution_count": 9,
   "metadata": {},
   "outputs": [],
   "source": [
    "reviews_echoshow1['tokenized_words'] = reviews_echoshow1['preprocessed_tokenized_words'].apply(process_tokens)"
   ]
  },
  {
   "cell_type": "code",
   "execution_count": 10,
   "metadata": {},
   "outputs": [
    {
     "data": {
      "text/html": [
       "<div>\n",
       "<style scoped>\n",
       "    .dataframe tbody tr th:only-of-type {\n",
       "        vertical-align: middle;\n",
       "    }\n",
       "\n",
       "    .dataframe tbody tr th {\n",
       "        vertical-align: top;\n",
       "    }\n",
       "\n",
       "    .dataframe thead th {\n",
       "        text-align: right;\n",
       "    }\n",
       "</style>\n",
       "<table border=\"1\" class=\"dataframe\">\n",
       "  <thead>\n",
       "    <tr style=\"text-align: right;\">\n",
       "      <th></th>\n",
       "      <th>web-scraper-order</th>\n",
       "      <th>web-scraper-start-url</th>\n",
       "      <th>author</th>\n",
       "      <th>title</th>\n",
       "      <th>date</th>\n",
       "      <th>content</th>\n",
       "      <th>rating</th>\n",
       "      <th>next</th>\n",
       "      <th>next-href</th>\n",
       "      <th>preprocessed_tokenized_words</th>\n",
       "      <th>tokenized_words</th>\n",
       "    </tr>\n",
       "  </thead>\n",
       "  <tbody>\n",
       "    <tr>\n",
       "      <th>0</th>\n",
       "      <td>1551346435-14168</td>\n",
       "      <td>https://www.amazon.com/Echo-Show-1st-Generatio...</td>\n",
       "      <td>Enrique G. Cruz</td>\n",
       "      <td>Echo \"no\" show?</td>\n",
       "      <td>January 25, 2018</td>\n",
       "      <td>Has potential . I believe with future firmware...</td>\n",
       "      <td>3.0 out of 5 stars</td>\n",
       "      <td>Next page→</td>\n",
       "      <td>https://www.amazon.com/Echo-Show-1st-Generatio...</td>\n",
       "      <td>[Has, potential, ., I, believe, with, future, ...</td>\n",
       "      <td>[potential, believe, future, firmware, upgrade...</td>\n",
       "    </tr>\n",
       "    <tr>\n",
       "      <th>1</th>\n",
       "      <td>1551346776-15337</td>\n",
       "      <td>https://www.amazon.com/Echo-Show-1st-Generatio...</td>\n",
       "      <td>steve</td>\n",
       "      <td>Looks a little dated but we are very happy wit...</td>\n",
       "      <td>July 22, 2017</td>\n",
       "      <td>We like it very much so far it's been our expe...</td>\n",
       "      <td>4.0 out of 5 stars</td>\n",
       "      <td>Next page→</td>\n",
       "      <td>https://www.amazon.com/Echo-Show-1st-Generatio...</td>\n",
       "      <td>[We, like, it, very, much, so, far, it, 's, be...</td>\n",
       "      <td>[like, much, far, expectations, kind, wish, li...</td>\n",
       "    </tr>\n",
       "    <tr>\n",
       "      <th>2</th>\n",
       "      <td>1551346568-14648</td>\n",
       "      <td>https://www.amazon.com/Echo-Show-1st-Generatio...</td>\n",
       "      <td>Michael H. Charles</td>\n",
       "      <td>A good product that will get better</td>\n",
       "      <td>August 27, 2018</td>\n",
       "      <td>All things considered, I think it’s a great pr...</td>\n",
       "      <td>4.0 out of 5 stars</td>\n",
       "      <td>Next page→</td>\n",
       "      <td>https://www.amazon.com/Echo-Show-1st-Generatio...</td>\n",
       "      <td>[All, things, considered, ,, I, think, it, ’, ...</td>\n",
       "      <td>[things, considered, think, great, product, wo...</td>\n",
       "    </tr>\n",
       "    <tr>\n",
       "      <th>3</th>\n",
       "      <td>1551346386-13986</td>\n",
       "      <td>https://www.amazon.com/Echo-Show-1st-Generatio...</td>\n",
       "      <td>Denny Thomas</td>\n",
       "      <td>The digital assistant is truly amazing once yo...</td>\n",
       "      <td>March 5, 2018</td>\n",
       "      <td>The Amazon Echo Show is a must have in your ho...</td>\n",
       "      <td>5.0 out of 5 stars</td>\n",
       "      <td>Next page→</td>\n",
       "      <td>https://www.amazon.com/Echo-Show-1st-Generatio...</td>\n",
       "      <td>[The, Amazon, Echo, Show, is, a, must, have, i...</td>\n",
       "      <td>[amazon, echo, show, must, house, digital, ass...</td>\n",
       "    </tr>\n",
       "    <tr>\n",
       "      <th>4</th>\n",
       "      <td>1551346407-14067</td>\n",
       "      <td>https://www.amazon.com/Echo-Show-1st-Generatio...</td>\n",
       "      <td>Happy</td>\n",
       "      <td>Echo Show - Black</td>\n",
       "      <td>July 5, 2017</td>\n",
       "      <td>i wrote a review within hours of opening the b...</td>\n",
       "      <td>5.0 out of 5 stars</td>\n",
       "      <td>Next page→</td>\n",
       "      <td>https://www.amazon.com/Echo-Show-1st-Generatio...</td>\n",
       "      <td>[i, wrote, a, review, within, hours, of, openi...</td>\n",
       "      <td>[wrote, review, within, hours, opening, box, s...</td>\n",
       "    </tr>\n",
       "  </tbody>\n",
       "</table>\n",
       "</div>"
      ],
      "text/plain": [
       "  web-scraper-order                              web-scraper-start-url  \\\n",
       "0  1551346435-14168  https://www.amazon.com/Echo-Show-1st-Generatio...   \n",
       "1  1551346776-15337  https://www.amazon.com/Echo-Show-1st-Generatio...   \n",
       "2  1551346568-14648  https://www.amazon.com/Echo-Show-1st-Generatio...   \n",
       "3  1551346386-13986  https://www.amazon.com/Echo-Show-1st-Generatio...   \n",
       "4  1551346407-14067  https://www.amazon.com/Echo-Show-1st-Generatio...   \n",
       "\n",
       "               author                                              title  \\\n",
       "0     Enrique G. Cruz                                    Echo \"no\" show?   \n",
       "1               steve  Looks a little dated but we are very happy wit...   \n",
       "2  Michael H. Charles                A good product that will get better   \n",
       "3        Denny Thomas  The digital assistant is truly amazing once yo...   \n",
       "4               Happy                                  Echo Show - Black   \n",
       "\n",
       "               date                                            content  \\\n",
       "0  January 25, 2018  Has potential . I believe with future firmware...   \n",
       "1     July 22, 2017  We like it very much so far it's been our expe...   \n",
       "2   August 27, 2018  All things considered, I think it’s a great pr...   \n",
       "3     March 5, 2018  The Amazon Echo Show is a must have in your ho...   \n",
       "4      July 5, 2017  i wrote a review within hours of opening the b...   \n",
       "\n",
       "               rating        next  \\\n",
       "0  3.0 out of 5 stars  Next page→   \n",
       "1  4.0 out of 5 stars  Next page→   \n",
       "2  4.0 out of 5 stars  Next page→   \n",
       "3  5.0 out of 5 stars  Next page→   \n",
       "4  5.0 out of 5 stars  Next page→   \n",
       "\n",
       "                                           next-href  \\\n",
       "0  https://www.amazon.com/Echo-Show-1st-Generatio...   \n",
       "1  https://www.amazon.com/Echo-Show-1st-Generatio...   \n",
       "2  https://www.amazon.com/Echo-Show-1st-Generatio...   \n",
       "3  https://www.amazon.com/Echo-Show-1st-Generatio...   \n",
       "4  https://www.amazon.com/Echo-Show-1st-Generatio...   \n",
       "\n",
       "                        preprocessed_tokenized_words  \\\n",
       "0  [Has, potential, ., I, believe, with, future, ...   \n",
       "1  [We, like, it, very, much, so, far, it, 's, be...   \n",
       "2  [All, things, considered, ,, I, think, it, ’, ...   \n",
       "3  [The, Amazon, Echo, Show, is, a, must, have, i...   \n",
       "4  [i, wrote, a, review, within, hours, of, openi...   \n",
       "\n",
       "                                     tokenized_words  \n",
       "0  [potential, believe, future, firmware, upgrade...  \n",
       "1  [like, much, far, expectations, kind, wish, li...  \n",
       "2  [things, considered, think, great, product, wo...  \n",
       "3  [amazon, echo, show, must, house, digital, ass...  \n",
       "4  [wrote, review, within, hours, opening, box, s...  "
      ]
     },
     "execution_count": 10,
     "metadata": {},
     "output_type": "execute_result"
    }
   ],
   "source": [
    "reviews_echoshow1.head()"
   ]
  },
  {
   "cell_type": "code",
   "execution_count": null,
   "metadata": {},
   "outputs": [],
   "source": []
  },
  {
   "cell_type": "code",
   "execution_count": 16,
   "metadata": {},
   "outputs": [],
   "source": [
    "import gensim\n",
    "from gensim.models import Word2Vec\n",
    "\n",
    "data = reviews_echoshow1['tokenized_words']\n",
    "#create CBOW model\n",
    "model1 = gensim.models.Word2Vec(data,min_count = 1, size = 100, window = 5)\n",
    "model2 = gensim.models.Word2Vec(data,min_count = 1, size = 100, window = 5, sg = 1 )"
   ]
  },
  {
   "cell_type": "code",
   "execution_count": 26,
   "metadata": {},
   "outputs": [
    {
     "name": "stdout",
     "output_type": "stream",
     "text": [
      "0.7530027177614114\n",
      "0.8073501613462555\n"
     ]
    }
   ],
   "source": [
    "print(model1.wv.similarity('echo','good'))\n",
    "print(model1.wv.similarity('echo','bad'))"
   ]
  },
  {
   "cell_type": "code",
   "execution_count": 27,
   "metadata": {},
   "outputs": [
    {
     "name": "stdout",
     "output_type": "stream",
     "text": [
      "0.5574788342837651\n",
      "0.6285099994161205\n"
     ]
    }
   ],
   "source": [
    "print(model2.wv.similarity('echo','good'))\n",
    "print(model2.wv.similarity('echo','bad'))"
   ]
  },
  {
   "cell_type": "code",
   "execution_count": null,
   "metadata": {},
   "outputs": [],
   "source": []
  }
 ],
 "metadata": {
  "kernelspec": {
   "display_name": "Python 3",
   "language": "python",
   "name": "python3"
  },
  "language_info": {
   "codemirror_mode": {
    "name": "ipython",
    "version": 3
   },
   "file_extension": ".py",
   "mimetype": "text/x-python",
   "name": "python",
   "nbconvert_exporter": "python",
   "pygments_lexer": "ipython3",
   "version": "3.7.3"
  }
 },
 "nbformat": 4,
 "nbformat_minor": 2
}
